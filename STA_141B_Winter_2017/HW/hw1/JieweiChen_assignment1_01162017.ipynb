{
 "cells": [
  {
   "cell_type": "markdown",
   "metadata": {},
   "source": [
    "## Part 1: The Doomsday Algorithm\n",
    "\n",
    "The Doomsday algorithm, devised by mathematician J. H. Conway, computes the day of the week any given date fell on. The algorithm is designed to be simple enough to memorize and use for mental calculation.\n",
    "\n",
    "__Example.__ With the algorithm, we can compute that July 4, 1776 (the day the United States declared independence from Great Britain) was a Thursday.\n",
    "\n",
    "The algorithm is based on the fact that for any year, several dates always fall on the same day of the week, called the <em style=\"color:#F00\">doomsday</em> for the year. These dates include 4/4, 6/6, 8/8, 10/10, and 12/12.\n",
    "\n",
    "__Example.__ The doomsday for 2016 is Monday, so in 2016 the dates above all fell on Mondays. The doomsday for 2017 is Tuesday, so in 2017 the dates above will all fall on Tuesdays.\n",
    "\n",
    "The doomsday algorithm has three major steps:\n",
    "\n",
    "1. Compute the anchor day for the target century.\n",
    "2. Compute the doomsday for the target year based on the anchor day.\n",
    "3. Determine the day of week for the target date by counting the number of days to the nearest doomsday.\n",
    "\n",
    "Each step is explained in detail below."
   ]
  },
  {
   "cell_type": "markdown",
   "metadata": {},
   "source": [
    "### The Anchor Day\n",
    "\n",
    "The doomsday for the first year in a century is called the <em style=\"color:#F00\">anchor day</em> for that century. The anchor day is needed to compute the doomsday for any other year in that century. The anchor day for a century $c$ can be computed with the formula:\n",
    "$$\n",
    "a = \\bigl( 5 (c \\bmod 4) + 2 \\bigr) \\bmod 7\n",
    "$$\n",
    "The result $a$ corresponds to a day of the week, starting with $0$ for Sunday and ending with $6$ for Saturday.\n",
    "\n",
    "__Note.__ The modulo operation $(x \\bmod y)$ finds the remainder after dividing $x$ by $y$. For instance, $12 \\bmod 3 = 0$ since the remainder after dividing $12$ by $3$ is $0$. Similarly, $11 \\bmod 7 = 4$, since the remainder after dividing $11$ by $7$ is $4$.\n",
    "\n",
    "__Example.__ Suppose the target year is 1954, so the century is $c = 19$. Plugging this into the formula gives\n",
    "$$a = \\bigl( 5 (19 \\bmod 4) + 2 \\bigr) \\bmod 7 = \\bigl( 5(3) + 2 \\bigr) \\bmod 7 = 3.$$\n",
    "In other words, the anchor day for 1900-1999 is Wednesday, which is also the doomsday for 1900.\n",
    "\n",
    "__Exercise 1.1.__ Write a function that accepts a year as input and computes the anchor day for that year's century. The modulo operator `%` and functions in the `math` module may be useful. Document your function with a docstring and test your function for a few different years.  Do this in a new cell below this one."
   ]
  },
  {
   "cell_type": "code",
   "execution_count": 1,
   "metadata": {
    "collapsed": false
   },
   "outputs": [
    {
     "name": "stdout",
     "output_type": "stream",
     "text": [
      "3\n",
      "2\n"
     ]
    }
   ],
   "source": [
    "def anchor_day(year): # define a function called anchor_day which takes year as input\n",
    "    # this function computes the anchor day the that year's century    \n",
    "    # The anchor day for a century c can be computed with the formula:\n",
    "    # a=(5(c mod 4)+2) mod 7\n",
    "    # The result a corresponds to a day of the week, starting with 0 for Sunday and ending with 6 for Saturday.\n",
    "    return (5 * ((year//100) % 4) + 2) % 7\n",
    "\n",
    "# test if this function is right\n",
    "print (anchor_day(1954)) # 3\n",
    "print (anchor_day(2017)) # 2\n"
   ]
  },
  {
   "cell_type": "markdown",
   "metadata": {},
   "source": [
    "### The Doomsday\n",
    "\n",
    "Once the anchor day is known, let $y$ be the last two digits of the target year. Then the doomsday for the target year can be computed with the formula:\n",
    "$$d = \\left(y + \\left\\lfloor\\frac{y}{4}\\right\\rfloor + a\\right) \\bmod 7$$\n",
    "The result $d$ corresponds to a day of the week.\n",
    "\n",
    "__Note.__ The floor operation $\\lfloor x \\rfloor$ rounds $x$ down to the nearest integer. For instance, $\\lfloor 3.1 \\rfloor = 3$ and $\\lfloor 3.8 \\rfloor = 3$.\n",
    "\n",
    "__Example.__ Again suppose the target year is 1954. Then the anchor day is $a = 3$, and $y = 54$, so the formula gives\n",
    "$$\n",
    "d = \\left(54 + \\left\\lfloor\\frac{54}{4}\\right\\rfloor + 3\\right) \\bmod 7 = (54 + 13 + 3) \\bmod 7 = 0.\n",
    "$$\n",
    "Thus the doomsday for 1954 is Sunday.\n",
    "\n",
    "__Exercise 1.2.__ Write a function that accepts a year as input and computes the doomsday for that year. Your function may need to call the function you wrote in exercise 1.1. Make sure to document and test your function."
   ]
  },
  {
   "cell_type": "code",
   "execution_count": 2,
   "metadata": {
    "collapsed": false
   },
   "outputs": [
    {
     "name": "stdout",
     "output_type": "stream",
     "text": [
      "0\n",
      "1\n",
      "2\n"
     ]
    }
   ],
   "source": [
    "def doomsday(year): # define a function called doomsday which takes year as input\n",
    "    # this function computes the corresponding doomsday of the target year\n",
    "    return (year%100 + (year%100)//4 + anchor_day(year))%7\n",
    "\n",
    "print (doomsday(1954)) # 0 Sunday\n",
    "print (doomsday(2016)) # 1 Monday\n",
    "print (doomsday(2017)) # 2 Tuesday"
   ]
  },
  {
   "cell_type": "markdown",
   "metadata": {},
   "source": [
    "### The Day of Week\n",
    "\n",
    "The final step in the Doomsday algorithm is to count the number of days between the target date and a nearby doomsday, modulo 7. This gives the day of the week.\n",
    "\n",
    "Every month has at least one doomsday:\n",
    "* (regular years) 1/10, 2/28\n",
    "* (leap years) 1/11, 2/29\n",
    "* 3/21, 4/4, 5/9, 6/6, 7/11, 8/8, 9/5, 10/10, 11/7, 12/12\n",
    "\n",
    "__Example.__ Suppose we want to find the day of the week for 7/21/1954. The doomsday for 1954 is Sunday, and a nearby doomsday is 7/11. There are 10 days in July between 7/11 and 7/21. Since $10 \\bmod 7 = 3$, the date 7/21/1954 falls 3 days after a Sunday, on a Wednesday.\n",
    "\n",
    "__Exercise 1.3.__ Write a function to determine the day of the week for a given day, month, and year. Be careful of leap years! Your function should return a string such as \"Thursday\" rather than a number. As usual, document and test your code."
   ]
  },
  {
   "cell_type": "code",
   "execution_count": 3,
   "metadata": {
    "collapsed": false
   },
   "outputs": [
    {
     "name": "stdout",
     "output_type": "stream",
     "text": [
      "Monday\n",
      "Wednesday\n",
      "Tuesday\n"
     ]
    }
   ],
   "source": [
    "def cal_day(month,day,year): # define a function to determine the day of the week for a given day, month, and year\n",
    "    # month, day, year are three inputs to the function\n",
    "    \n",
    "    # a list of days in a week\n",
    "    days = ['Sunday', 'Monday', 'Tuesday', 'Wednesday', 'Thursday', 'Friday', 'Saturday']\n",
    "    \n",
    "    # a list of all doomsday\n",
    "    #    for regular years\n",
    "    dmdays_reg = [10,28,21,4,9,6,11,8,5,10,7,12]\n",
    "    #    for leap years\n",
    "    dmdays_leap = [11,29,21,4,9,6,11,8,5,10,7,12]\n",
    "    \n",
    "    if year%4 == 0 and year%100 != 0: # check if a year is leap-yeaer\n",
    "        index = ((day - dmdays_leap[month-1])%7 + doomsday(year))%7\n",
    "    else:\n",
    "        index = ((day - dmdays_reg[month-1])%7 + doomsday(year))%7\n",
    "    \n",
    "    return days[index]\n",
    "    \n",
    "print (cal_day(1,16,2017)) # Monday\n",
    "print (cal_day(7,21,1954)) # Wednesday\n",
    "print (cal_day(2,11,1992)) # Tuesday "
   ]
  },
  {
   "cell_type": "markdown",
   "metadata": {},
   "source": [
    "__Exercise 1.4.__ How many times did Friday the 13th occur in the years 1900-1999? Does this number seem to be similar to other centuries?"
   ]
  },
  {
   "cell_type": "code",
   "execution_count": 6,
   "metadata": {
    "collapsed": false
   },
   "outputs": [
    {
     "data": {
      "text/plain": [
       "172"
      ]
     },
     "execution_count": 6,
     "metadata": {},
     "output_type": "execute_result"
    }
   ],
   "source": [
    "def count_day(dow, day, begin_year, end_year):\n",
    "    # define a function that takes the target day of week (dow), the day of month, the year range as inputs\n",
    "    # this function returns the times of this target day of week occurs on a certain day of the month in that year range\n",
    "    count = 0\n",
    "    \n",
    "    for year in range(begin_year,end_year+1):\n",
    "        for month in range(1,13):\n",
    "            if cal_day(month, day, year) == dow:\n",
    "                count += 1\n",
    "                \n",
    "    return count\n",
    "                \n",
    "count_day('Friday', 13, 1900, 1999)  # 172"
   ]
  },
  {
   "cell_type": "markdown",
   "metadata": {},
   "source": [
    "__Exercise 1.5.__ How many times did Friday the 13th occur between the year 2000 and today?"
   ]
  },
  {
   "cell_type": "code",
   "execution_count": 7,
   "metadata": {
    "collapsed": false
   },
   "outputs": [
    {
     "data": {
      "text/plain": [
       "31"
      ]
     },
     "execution_count": 7,
     "metadata": {},
     "output_type": "execute_result"
    }
   ],
   "source": [
    "# The times Friday occured on the 13th between the year 2000 and today can be calculated by \n",
    "#    calculating the number from 2000 to 2016 and then check if Jan 13th of 2017 is Friday\n",
    "cal_day(1,13,2017) # Fridays\n",
    "count_day('Friday', 13, 2000, 2016) + 1 # 31"
   ]
  },
  {
   "cell_type": "markdown",
   "metadata": {},
   "source": [
    "## Part 2: 1978 Birthdays\n",
    "\n",
    "__Exercise 2.1.__ The file `birthdays.txt` contains the number of births in the United States for each day in 1978. Inspect the file to determine the format. Note that columns are separated by the tab character, which can be entered in Python as `\\t`. Write a function that uses iterators and list comprehensions with the string methods `split()` and `strip()` to  convert each line of data to the list format\n",
    "\n",
    "```Python\n",
    "[month, day, year, count]\n",
    "```\n",
    "The elements of this list should be integers, not strings. The function `read_birthdays` provided below will help you load the file."
   ]
  },
  {
   "cell_type": "code",
   "execution_count": 8,
   "metadata": {
    "collapsed": true
   },
   "outputs": [],
   "source": [
    "def read_birthdays(file_path):\n",
    "    \"\"\"Read the contents of the birthdays file into a string.\n",
    "    \n",
    "    Arguments:\n",
    "        file_path (string): The path to the birthdays file.\n",
    "        \n",
    "    Returns:\n",
    "        string: The contents of the birthdays file.\n",
    "    \"\"\"\n",
    "    with open(file_path) as file:\n",
    "        return file.read()"
   ]
  },
  {
   "cell_type": "markdown",
   "metadata": {},
   "source": [
    "__Exercise 2.2.__ Which month had the most births in 1978? Which day of the week had the most births? Which day of the week had the fewest? What conclusions can you draw? You may find the `Counter` class in the `collections` module useful."
   ]
  },
  {
   "cell_type": "code",
   "execution_count": 9,
   "metadata": {
    "collapsed": false
   },
   "outputs": [],
   "source": [
    "#==============================================================================\n",
    "# Extract the number of births in the United States for each day in 1978\n",
    "#==============================================================================\n",
    "\n",
    "# Load the file\n",
    "text = read_birthdays('/Users/CJ/Dropbox/Course Winter 2017/STA 141B/HW/hw1/birthdays.txt')\n",
    "\n",
    "# Generate a list with each element representing each line of the original text (empty lines removed)\n",
    "text_lines = [elem for elem in text.split('\\n') if elem != '' and elem != '\\t']\n",
    "# Only extract the lines where birthday information exists\n",
    "text_lines = text_lines[4:401]\n",
    "\n",
    "# generate a list with date and counts\n",
    "date_num = [elm.split('\\t') for elm in text_lines]\n",
    "\n",
    "# Write a function to re-formt the result         \n",
    "def get_birth_info(list): \n",
    "    # define a function to extract the date and counts in the following format\n",
    "    #   [month, day, year, count] and every element should be an integer\n",
    "    ans = [int(s) for s in list[0].split('/')]\n",
    "    ans.append(int(list[1]))\n",
    "    return ans\n",
    "\n",
    "result = [get_birth_info(elem) for elem in date_num]    "
   ]
  },
  {
   "cell_type": "code",
   "execution_count": 11,
   "metadata": {
    "collapsed": false,
    "scrolled": true
   },
   "outputs": [
    {
     "data": {
      "text/plain": [
       "[(2, 249875),\n",
       " (4, 254577),\n",
       " (1, 270695),\n",
       " (6, 270756),\n",
       " (5, 270812),\n",
       " (11, 274671),\n",
       " (3, 276584),\n",
       " (12, 284927),\n",
       " (10, 288955),\n",
       " (9, 293891),\n",
       " (7, 294701),\n",
       " (8, 302795)]"
      ]
     },
     "execution_count": 11,
     "metadata": {},
     "output_type": "execute_result"
    }
   ],
   "source": [
    "#==============================================================================\n",
    "# Which month had the most births in 1978?\n",
    "#==============================================================================\n",
    "\n",
    "# Create a list called result_month\n",
    "#     in this list, each element corresponding to each month is a list containing the number of births on different day of that month\n",
    "result_month = []\n",
    "for i in range(12):\n",
    "    result_month.append( [list[3] for list in result if list[0] == i+1] ) \n",
    "\n",
    "# add up the number of births of each month\n",
    "# the births_month lists the total number of people born in that month\n",
    "births_month = [sum(list) for list in result_month]\n",
    "    \n",
    "# reformat and sort the result to find the month with the most births\n",
    "def last(list):\n",
    "    return list[-1]\n",
    "sorted_births_month = sorted(zip(range(1,13),births_month), key = last)\n",
    "sorted_births_month   "
   ]
  },
  {
   "cell_type": "code",
   "execution_count": 12,
   "metadata": {
    "collapsed": false
   },
   "outputs": [
    {
     "name": "stdout",
     "output_type": "stream",
     "text": [
      "The month of 1978 which has the most births is the 8(th) month\n"
     ]
    }
   ],
   "source": [
    "print('The month of 1978 which has the most births is the %s(th) month' % sorted_births_month[11][0])"
   ]
  },
  {
   "cell_type": "markdown",
   "metadata": {},
   "source": [
    "So the month of 1978 which has the most birth is **August**"
   ]
  },
  {
   "cell_type": "code",
   "execution_count": 13,
   "metadata": {
    "collapsed": false
   },
   "outputs": [
    {
     "data": {
      "text/plain": [
       "[('Sunday', 421400),\n",
       " ('Saturday', 432085),\n",
       " ('Monday', 487309),\n",
       " ('Thursday', 493149),\n",
       " ('Wednesday', 493897),\n",
       " ('Friday', 500541),\n",
       " ('Tuesday', 504858)]"
      ]
     },
     "execution_count": 13,
     "metadata": {},
     "output_type": "execute_result"
    }
   ],
   "source": [
    "#==============================================================================\n",
    "# Which day of the week had the most births? Which day of the week had the fewest? \n",
    "# What conclusions can you draw?\n",
    "#==============================================================================\n",
    "\n",
    "# A function takes the data in the list form and calculate the corresponding day of week of each day \n",
    "#     and append this to the end of each element of the result list\n",
    "def add_dow(list):\n",
    "    return list.append(cal_day(list[0],list[1],1900+list[2]))\n",
    "\n",
    "# Apply the add_dow function to everyday\n",
    "for i in range(365):\n",
    "    add_dow(result[i])\n",
    "\n",
    "days = ['Sunday', 'Monday', 'Tuesday', 'Wednesday', 'Thursday', 'Friday', 'Saturday']\n",
    "\n",
    "# result_dow has 7 list, with each list correspond to each day of a week.\n",
    "#    In each list, it contains the number of births on different date.\n",
    "result_dow = []\n",
    "for day in days:\n",
    "    result_dow.append( [list[3] for list in result if list[4] == day] ) \n",
    "\n",
    "# Summing up all the births in one day\n",
    "births_dow = [sum(list) for list in result_dow]\n",
    "\n",
    "# Sort the result to find the day with most and least births\n",
    "sorted_births_dow = sorted(zip(days, births_dow), key = last)\n",
    "sorted_births_dow"
   ]
  },
  {
   "cell_type": "code",
   "execution_count": 14,
   "metadata": {
    "collapsed": false
   },
   "outputs": [
    {
     "name": "stdout",
     "output_type": "stream",
     "text": [
      "┌───────────┬────────┐\n",
      "│ Sunday    │ 421400 │\n",
      "├───────────┼────────┤\n",
      "│ Monday    │ 487309 │\n",
      "├───────────┼────────┤\n",
      "│ Tuesday   │ 504858 │\n",
      "├───────────┼────────┤\n",
      "│ Wednesday │ 493897 │\n",
      "├───────────┼────────┤\n",
      "│ Thursday  │ 493149 │\n",
      "├───────────┼────────┤\n",
      "│ Friday    │ 500541 │\n",
      "├───────────┼────────┤\n",
      "│ Saturday  │ 432085 │\n",
      "└───────────┴────────┘\n"
     ]
    }
   ],
   "source": [
    "#==============================================================================\n",
    "# Just try to display the result in a table\n",
    "#==============================================================================\n",
    "\n",
    "import tabletext\n",
    "\n",
    "print ( tabletext.to_text([list(a) for a in zip(days, births_dow)]) )"
   ]
  },
  {
   "cell_type": "code",
   "execution_count": 15,
   "metadata": {
    "collapsed": false
   },
   "outputs": [
    {
     "name": "stdout",
     "output_type": "stream",
     "text": [
      "The day of week with most births is Tuesday\n",
      "The day of week with least births is Sunday\n"
     ]
    }
   ],
   "source": [
    "print('The day of week with most births is %s' % sorted_births_dow[-1][0])  \n",
    "print('The day of week with least births is %s' % sorted_births_dow[0][0])"
   ]
  },
  {
   "cell_type": "markdown",
   "metadata": {},
   "source": [
    "<p> The day of week with most births is **Tuesday**. </p>\n",
    "<p> The day of week with least births is **Sunday**. </p>"
   ]
  },
  {
   "cell_type": "markdown",
   "metadata": {},
   "source": [
    "__Exercise 2.3.__ What would be an effective way to present the information in exercise 2.2? You don't need to write any code for this exercise, just discuss what you would do."
   ]
  },
  {
   "cell_type": "markdown",
   "metadata": {},
   "source": [
    "**Answer:**\n",
    "<p>I think a good way to present this information is to make a table with one column corresponding to each month and the other column the number of births of each month. Same for the births of each day of a week result.</p>\n",
    "<p>Or another good way to do that is to draw a histogram of each month or each day of a week to show the number of people born on that specific time.</p>"
   ]
  }
 ],
 "metadata": {
  "anaconda-cloud": {},
  "kernelspec": {
   "display_name": "Python [conda root]",
   "language": "python",
   "name": "conda-root-py"
  },
  "language_info": {
   "codemirror_mode": {
    "name": "ipython",
    "version": 3
   },
   "file_extension": ".py",
   "mimetype": "text/x-python",
   "name": "python",
   "nbconvert_exporter": "python",
   "pygments_lexer": "ipython3",
   "version": "3.5.2"
  }
 },
 "nbformat": 4,
 "nbformat_minor": 2
}
