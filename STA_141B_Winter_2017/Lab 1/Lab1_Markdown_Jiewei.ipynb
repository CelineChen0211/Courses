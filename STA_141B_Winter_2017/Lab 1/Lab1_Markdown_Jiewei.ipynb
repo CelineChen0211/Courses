{
 "cells": [
  {
   "cell_type": "markdown",
   "metadata": {},
   "source": [
    "<h1>\n",
    "<center> STA 141A HW 5 </center>\n",
    "</h1>\n",
    "<center>\n",
    "All code below are written in R language\n",
    "</center>\n",
    "<h4> \n",
    "<center> Jiewei Chen </center> \n",
    "</h4>"
   ]
  },
  {
   "cell_type": "markdown",
   "metadata": {},
   "source": [
    "<h2> Question 1(i)-(iii) </h2>\n",
    "<p> **(i)** Generate a random sample of size n = 100 following the univariate regression model $Y_{i} = −5 + 2X_{i} + \\epsilon_{i}$\n",
    "where X_{i}’s are independent Chi-square random variables with degrees of freedom 6, and $\\epsilon_{i}$’s are i.i.d. N(0, $\\sigma^{2}$) with $\\sigma = 1$. Fix a random seed to ensure that the results are reproducible.\n",
    "</p>\n",
    "\n",
    "<p> **(ii)** Fit the least squares regression line to the data and obtain the estimate of ($\\beta_{0}$, $\\beta_{1}$, $\\sigma^{2}$). </p>\n",
    "\n",
    "<p> **(iii)** Obtain resampling-based 95% confidence intervals for $\\beta_{0}$ and $\\beta_{1}$ by using a parametric (i.e., residual-base) bootstrap procedure with 400 bootstrap replicates. </p>"
   ]
  },
  {
   "cell_type": "markdown",
   "metadata": {},
   "source": [
    "<strong>Answer:</strong>\n",
    "<p>\n",
    "The function **Create.Data** uses **s** as input, which is a number used to set the random seed every time we run this funciton. In the function, it generates **X's**, **Y's** as described in the question 1(i). And this function will return a matrix with column representing **X's**, **$\\epsilon$**, **Y's**.\n",
    "</p>\n",
    "<p>\n",
    "The function **Cal.beta** uses **X** and **Y** as inputs, it fits the least squares regression line to the data and outputs the estimate of (**$\\beta_{0}$**, **$\\beta_{1}$**, **$\\sigma^{2}$**). \n",
    "</p>\n",
    "<p>\n",
    "The function **Resampling** uses **data** as inputs, it resamples the residuals of a model and then create a new dataset by using these resampled residuals. Then it computes the two coefficients of the new model. The output of this function is the two coefficients calculated from the resampled dataset.\n",
    "</p>\n",
    "<p>\n",
    "The function **step1to3** just concatenates Question (i) to (iii) together to get the estimate of (**$\\beta_{0}$**, **$\\beta_{1}$**, **$\\sigma^{2}$**), and confidence intervals of two coefficients.\n",
    "</p>\n"
   ]
  },
  {
   "cell_type": "markdown",
   "metadata": {},
   "source": [
    "<ul>\n",
    "<li> **Load Packages** </li>\n",
    "</ul>"
   ]
  },
  {
   "cell_type": "code",
   "execution_count": 13,
   "metadata": {
    "collapsed": false
   },
   "outputs": [
    {
     "name": "stderr",
     "output_type": "stream",
     "text": [
      "Loading required package: broom\n"
     ]
    }
   ],
   "source": [
    "require(readr)\n",
    "require(broom)\n",
    "require(tidyverse)"
   ]
  },
  {
   "cell_type": "markdown",
   "metadata": {},
   "source": [
    "<ul>\n",
    "<li> **Function for Question 1(i) - (iii)** </li>\n",
    "</ul>"
   ]
  },
  {
   "cell_type": "code",
   "execution_count": 17,
   "metadata": {
    "collapsed": false
   },
   "outputs": [
    {
     "data": {
      "text/html": [
       "<dl>\n",
       "\t<dt>$est.beta0</dt>\n",
       "\t\t<dd><strong>(Intercept):</strong> -4.8417926988151</dd>\n",
       "\t<dt>$est.beta1</dt>\n",
       "\t\t<dd><strong>X:</strong> 1.99154319517619</dd>\n",
       "\t<dt>$est.sigma2</dt>\n",
       "\t\t<dd><strong>:</strong> 0.814411285252651</dd>\n",
       "\t<dt>$CI.beta0</dt>\n",
       "\t\t<dd><dl class=dl-horizontal>\n",
       "\t<dt>2.5%</dt>\n",
       "\t\t<dd>-5.24534474952617</dd>\n",
       "\t<dt>97.5%</dt>\n",
       "\t\t<dd>-4.43604144534681</dd>\n",
       "</dl>\n",
       "</dd>\n",
       "\t<dt>$CI.beta1</dt>\n",
       "\t\t<dd><dl class=dl-horizontal>\n",
       "\t<dt>2.5%</dt>\n",
       "\t\t<dd>1.92685439873635</dd>\n",
       "\t<dt>97.5%</dt>\n",
       "\t\t<dd>2.05771005262429</dd>\n",
       "</dl>\n",
       "</dd>\n",
       "\t<dt>$CI.beta0.theo</dt>\n",
       "\t\t<dd><dl class=dl-horizontal>\n",
       "\t<dt>2.5 %</dt>\n",
       "\t\t<dd>-5.25240547351463</dd>\n",
       "\t<dt>97.5 %</dt>\n",
       "\t\t<dd>-4.43117992411557</dd>\n",
       "</dl>\n",
       "</dd>\n",
       "\t<dt>$CI.beta1.theo</dt>\n",
       "\t\t<dd><dl class=dl-horizontal>\n",
       "\t<dt>2.5 %</dt>\n",
       "\t\t<dd>1.92818562008895</dd>\n",
       "\t<dt>97.5 %</dt>\n",
       "\t\t<dd>2.05490077026343</dd>\n",
       "</dl>\n",
       "</dd>\n",
       "</dl>\n"
      ],
      "text/latex": [
       "\\begin{description}\n",
       "\\item[\\$est.beta0] \\textbf{(Intercept):} -4.8417926988151\n",
       "\\item[\\$est.beta1] \\textbf{X:} 1.99154319517619\n",
       "\\item[\\$est.sigma2] \\textbf{:} 0.814411285252651\n",
       "\\item[\\$CI.beta0] \\begin{description*}\n",
       "\\item[2.5\\textbackslash{}\\%] -5.24534474952617\n",
       "\\item[97.5\\textbackslash{}\\%] -4.43604144534681\n",
       "\\end{description*}\n",
       "\n",
       "\\item[\\$CI.beta1] \\begin{description*}\n",
       "\\item[2.5\\textbackslash{}\\%] 1.92685439873635\n",
       "\\item[97.5\\textbackslash{}\\%] 2.05771005262429\n",
       "\\end{description*}\n",
       "\n",
       "\\item[\\$CI.beta0.theo] \\begin{description*}\n",
       "\\item[2.5 \\textbackslash{}\\%] -5.25240547351463\n",
       "\\item[97.5 \\textbackslash{}\\%] -4.43117992411557\n",
       "\\end{description*}\n",
       "\n",
       "\\item[\\$CI.beta1.theo] \\begin{description*}\n",
       "\\item[2.5 \\textbackslash{}\\%] 1.92818562008895\n",
       "\\item[97.5 \\textbackslash{}\\%] 2.05490077026343\n",
       "\\end{description*}\n",
       "\n",
       "\\end{description}\n"
      ],
      "text/markdown": [
       "$est.beta0\n",
       ":   **(Intercept):** -4.8417926988151\n",
       "$est.beta1\n",
       ":   **X:** 1.99154319517619\n",
       "$est.sigma2\n",
       ":   **:** 0.814411285252651\n",
       "$CI.beta0\n",
       ":   2.5%\n",
       ":   -5.2453447495261797.5%\n",
       ":   -4.43604144534681\n",
       "\n",
       "\n",
       "$CI.beta1\n",
       ":   2.5%\n",
       ":   1.9268543987363597.5%\n",
       ":   2.05771005262429\n",
       "\n",
       "\n",
       "$CI.beta0.theo\n",
       ":   2.5 %\n",
       ":   -5.2524054735146397.5 %\n",
       ":   -4.43117992411557\n",
       "\n",
       "\n",
       "$CI.beta1.theo\n",
       ":   2.5 %\n",
       ":   1.9281856200889597.5 %\n",
       ":   2.05490077026343\n",
       "\n",
       "\n",
       "\n",
       "\n"
      ],
      "text/plain": [
       "$est.beta0\n",
       "(Intercept) \n",
       "  -4.841793 \n",
       "\n",
       "$est.beta1\n",
       "       X \n",
       "1.991543 \n",
       "\n",
       "$est.sigma2\n",
       "          \n",
       "0.8144113 \n",
       "\n",
       "$CI.beta0\n",
       "     2.5%     97.5% \n",
       "-5.245345 -4.436041 \n",
       "\n",
       "$CI.beta1\n",
       "    2.5%    97.5% \n",
       "1.926854 2.057710 \n",
       "\n",
       "$CI.beta0.theo\n",
       "    2.5 %    97.5 % \n",
       "-5.252405 -4.431180 \n",
       "\n",
       "$CI.beta1.theo\n",
       "   2.5 %   97.5 % \n",
       "1.928186 2.054901 \n"
      ]
     },
     "metadata": {},
     "output_type": "display_data"
    }
   ],
   "source": [
    "step1to3 = function (i) {\n",
    "    \n",
    "        Create.Data = function (s) {\n",
    "                # s  is the seed\n",
    "                # Generate Chi-squared distribution\n",
    "                set.seed(s)\n",
    "                X = rchisq(100, 6, ncp = 0)\n",
    "                # Generate Normail distribution\n",
    "                set.seed(s)\n",
    "                epsilon = rnorm(100, mean = 0, sd = 1)\n",
    "                \n",
    "                Y = -5 + 2*X + epsilon\n",
    "                \n",
    "                result = as_data_frame(cbind(X, Y))\n",
    "                return(result)\n",
    "        }\n",
    "        \n",
    "        result_1 = Create.Data(i)\n",
    "        \n",
    "        Cal.beta = function(X,Y) {\n",
    "                model1 = lm(Y ~ X)\n",
    "                SSE = sum(model1$residuals^2)\n",
    "                n = length(X)\n",
    "                MSE = SSE/(n-2)\n",
    "                return(c(coef(model1), MSE))\n",
    "        }\n",
    "        \n",
    "        result_2 = Cal.beta(result_1$X, result_1$Y)\n",
    "        \n",
    "        # Residual bootstrap (resample residuals)\n",
    "        resid = augment(lm(Y~X, result_1))\n",
    "        \n",
    "        Resampling = function(data) {\n",
    "                n = nrow(data)\n",
    "                # Sample row numbers (i) rather than values (e_i)\n",
    "                idx = sample(n, n, replace = TRUE)\n",
    "                \n",
    "                # Use row numbers to get new residuals (e2_i).\n",
    "                res_samp = data$.resid[idx]\n",
    "                \n",
    "                # y2_i =  b_0 + b_1 * x_i + e2_i\n",
    "                y_samp =  data$.fitted + res_samp\n",
    "                \n",
    "                # Insert new response (y_i) into data frame, keeping old covariates (x_i)\n",
    "                data$Y = y_samp\n",
    "                \n",
    "                # Fit the same model with new data (y2_i, x_i).\n",
    "                new_mod = lm(Y ~ X, data)\n",
    "                \n",
    "                return (coef(new_mod))\n",
    "        }\n",
    "        \n",
    "        # Bootstrap 400 times.\n",
    "        boot = replicate(400, Resampling(resid))\n",
    "        \n",
    "        # Now compute statistics on the bootstrap samples. Each column is one bootstrap\n",
    "        # sample and each row is one statistic.\n",
    "        #\n",
    "        # For 95% confidence intervals:\n",
    "        \n",
    "        ci_beta0 = quantile(boot[1, ], c(0.025, 0.975))\n",
    "        ci_beta1 = quantile(boot[2, ], c(0.025, 0.975))\n",
    "        \n",
    "        # theoretical confidence intervals\n",
    "        ci_beta0_theo = confint(lm(Y~X, result_1), level = 0.95)[1,]\n",
    "        ci_beta1_theo = confint(lm(Y~X, result_1), level = 0.95)[2,]\n",
    "        \n",
    "        result = list(\"est.beta0\" = result_2[1], \"est.beta1\" = result_2[2],\n",
    "                      \"est.sigma2\" = result_2[3],\n",
    "                      \"CI.beta0\" = ci_beta0, \"CI.beta1\" = ci_beta1, \n",
    "                      \"CI.beta0.theo\" = ci_beta0_theo, \"CI.beta1.theo\" = ci_beta1_theo)\n",
    "        \n",
    "        return(result)\n",
    "}\n",
    "\n",
    "result.1 = step1to3(1)\n",
    "result.1"
   ]
  },
  {
   "cell_type": "markdown",
   "metadata": {
    "collapsed": false
   },
   "source": [
    "So the estimation of **$\\beta_{0}$**, **$\\beta_{1}$**, **$\\sigma^{2}$** are\n",
    "\n",
    "**Estimation of** |  **Value**  \n",
    "--------------------|-----------------\n",
    "$\\hat{\\beta_{0}}$|-4.84\n",
    "$\\hat{\\beta_{1}}$|1.99\n",
    "$\\hat{\\sigma^{2}}$|0.81"
   ]
  },
  {
   "cell_type": "markdown",
   "metadata": {},
   "source": [
    "So the resampling-based 95% confidence intervals for $\\beta_{0}$ and $\\beta_{1}$ by using a parametric (i.e., residual-base) bootstrap procedure with 400 bootstrap replicates are\n",
    "\n",
    "Coefficient | 95% Confidence Interval\n",
    "------------------------|--------\n",
    "$\\beta_{0}$ | [-5.24, -4.44]\n",
    "$\\beta_{1}$ | [1.93, 2.06] "
   ]
  },
  {
   "cell_type": "markdown",
   "metadata": {},
   "source": [
    "<h2> Question 1(iv) </h2>\n",
    "<p> How do the confidence intervals in (iii) compare with the theoretical confidence intervals for $\\beta_{0}$ and $\\beta_{1}$? [To compare the accuracy of the confidence intervals, repeat the procedure in steps (i)–(iii) 10 times (using different random seed for each simulation run) and report the average lengths of the bootstrap confidence intervals and that of corresponding theoretical confidence intervals.]\n",
    "</p>"
   ]
  },
  {
   "cell_type": "markdown",
   "metadata": {},
   "source": [
    "<strong>Answer:</strong>"
   ]
  },
  {
   "cell_type": "code",
   "execution_count": 20,
   "metadata": {
    "collapsed": false
   },
   "outputs": [
    {
     "data": {
      "text/html": [
       "0.811872057241315"
      ],
      "text/latex": [
       "0.811872057241315"
      ],
      "text/markdown": [
       "0.811872057241315"
      ],
      "text/plain": [
       "[1] 0.8118721"
      ]
     },
     "metadata": {},
     "output_type": "display_data"
    },
    {
     "data": {
      "text/html": [
       "0.798957640012228"
      ],
      "text/latex": [
       "0.798957640012228"
      ],
      "text/markdown": [
       "0.798957640012228"
      ],
      "text/plain": [
       "[1] 0.7989576"
      ]
     },
     "metadata": {},
     "output_type": "display_data"
    },
    {
     "data": {
      "text/html": [
       "0.119439232896075"
      ],
      "text/latex": [
       "0.119439232896075"
      ],
      "text/markdown": [
       "0.119439232896075"
      ],
      "text/plain": [
       "[1] 0.1194392"
      ]
     },
     "metadata": {},
     "output_type": "display_data"
    },
    {
     "data": {
      "text/html": [
       "0.120814187365747"
      ],
      "text/latex": [
       "0.120814187365747"
      ],
      "text/markdown": [
       "0.120814187365747"
      ],
      "text/plain": [
       "[1] 0.1208142"
      ]
     },
     "metadata": {},
     "output_type": "display_data"
    }
   ],
   "source": [
    "# Do step (i) to (iii) ten times\n",
    "result.10 = lapply(1:10, step1to3)\n",
    "\n",
    "# Tabulate the confidence intervals and length of Beta0 from Bootstrap\n",
    "CI.beta0.10 = as_data_frame(t(sapply(1:10, function(i) { \n",
    "        cbind(result.10[[i]]$CI.beta0) } )))\n",
    "colnames(CI.beta0.10) = c(\"Lower.Bound\", \"Higher.Bound\")\n",
    "CI.beta0.10$length = CI.beta0.10$Higher.Bound - CI.beta0.10$Lower.Bound\n",
    "\n",
    "# Tabulate the theoretical confidence intervals and length of Beta0\n",
    "CI.beta0.10.theo = as_data_frame(t(sapply(1:10, function(i) { \n",
    "        cbind(result.10[[i]]$CI.beta0.theo) } )))\n",
    "colnames(CI.beta0.10.theo) = c(\"Lower.Bound\", \"Higher.Bound\")\n",
    "CI.beta0.10.theo$length = CI.beta0.10.theo$Higher.Bound - CI.beta0.10.theo$Lower.Bound\n",
    "\n",
    "# Tabulate the confidence intervals and length of Beta1 from Bootstrap\n",
    "CI.beta1.10 = as_data_frame(t(sapply(1:10, function(i) { \n",
    "        cbind(result.10[[i]]$CI.beta1) } )))\n",
    "colnames(CI.beta1.10) = c(\"Lower.Bound\", \"Higher.Bound\")\n",
    "CI.beta1.10$length = CI.beta1.10$Higher.Bound - CI.beta1.10$Lower.Bound\n",
    "\n",
    "# Tabulate the theoretical confidence intervals and length of Beta1\n",
    "CI.beta1.10.theo = as_data_frame(t(sapply(1:10, function(i) { \n",
    "        cbind(result.10[[i]]$CI.beta1.theo) } )))\n",
    "colnames(CI.beta1.10.theo) = c(\"Lower.Bound\", \"Higher.Bound\")\n",
    "CI.beta1.10.theo$length = CI.beta1.10.theo$Higher.Bound - CI.beta1.10.theo$Lower.Bound\n",
    "\n",
    "len.beta0.theo = mean(CI.beta0.10.theo$length)\n",
    "len.beta0 = mean(CI.beta0.10$length)\n",
    "len.beta1.theo = mean(CI.beta1.10.theo$length)\n",
    "len.beta1 = mean(CI.beta1.10$length)\n",
    "len.beta0.theo\n",
    "len.beta0\n",
    "len.beta1.theo\n",
    "len.beta1"
   ]
  },
  {
   "cell_type": "markdown",
   "metadata": {},
   "source": [
    "The average lengths of the bootstrap confidence intervals and that of corresponding theoretical confidence intervals are listed below\n",
    "\n",
    "Coefficient | Length of CI from Bootstrap | Length of CI from Theoretics\n",
    "------------|-----------------------------|-----------------------------\n",
    "$\\beta_{0}$| 0.81 | 0.80\n",
    "$\\beta_{1}$| 0.12 | 0.12"
   ]
  },
  {
   "cell_type": "markdown",
   "metadata": {},
   "source": [
    "<h2> Question 2 </h2>\n"
   ]
  },
  {
   "cell_type": "markdown",
   "metadata": {},
   "source": [
    "<p> In this example, compare k-NN classification method, linear discriminant analysis and logistic regression in a two-class classification problem. For this consider the **iris** data available in R.</p>"
   ]
  },
  {
   "cell_type": "markdown",
   "metadata": {},
   "source": [
    "<h3> (i) </h3>\n",
    "<p>Extract the data corresponding to flower types setosa and versicolor, numbering a total of 100 flowers. Set aside the last 10 measurements for each flower type as test data and use the remaining data consisting of 80 measurements as training data.\n",
    "</p>"
   ]
  },
  {
   "cell_type": "code",
   "execution_count": 22,
   "metadata": {
    "collapsed": true
   },
   "outputs": [],
   "source": [
    "# Extract the data corresponding to flower types setosa and versicolor\n",
    "mydata = iris[iris$Species %in% c(\"setosa\", \"versicolor\"),]\n",
    "\n",
    "# Set aside the last 10 measurements for each flower type as test data \n",
    "mydata.v = mydata[c(41:50,91:100),]\n",
    "# remove \"virginica\"\n",
    "levels(mydata.v$Species) = factor(c(\"setosa\", \"versicolor\", \"versicolor\"))\n",
    "\n",
    "# The remaining data consisting of 80 measurements as training data\n",
    "mydata.t = mydata[c(1:40,51:90),]\n",
    "# remove \"virginica\"\n",
    "levels(mydata.t$Species) = factor(c(\"setosa\", \"versicolor\", \"versicolor\"))"
   ]
  },
  {
   "cell_type": "markdown",
   "metadata": {},
   "source": [
    "<h3> (ii) </h3>\n",
    "<p>Fit a logistic regression model to the training data, using the variable Sepal.Length as predictor. Obtain the estimates of the model parameters. Compute the confusion matrix for the test data set.</p>"
   ]
  },
  {
   "cell_type": "code",
   "execution_count": 28,
   "metadata": {
    "collapsed": false
   },
   "outputs": [
    {
     "data": {
      "text/plain": [
       "            model\n",
       "true         setosa versicolor\n",
       "  setosa         10          0\n",
       "  versicolor      2          8"
      ]
     },
     "metadata": {},
     "output_type": "display_data"
    }
   ],
   "source": [
    "# Fit logistic model on training data. Use family = binomial for logistic.\n",
    "log_model = glm(Species ~ Sepal.Length, mydata.t,\n",
    "                family = binomial)\n",
    "\n",
    "# Predict for test data. Use type = \"response\" to get class probabilities.\n",
    "log_pred = predict(log_model, mydata.v, type = \"response\")\n",
    "# Convert predictions to 1 or 2, for category 1 or 2 respectively.\n",
    "log_pred = (log_pred > 0.5) + 1\n",
    "# Convert predictions to spam or ham, same category order as original data.\n",
    "log_pred = levels(mydata.t$Species)[log_pred]\n",
    "\n",
    "# Make a confusion matrix by tabulating true classes against predicted classes.\n",
    "log_con = table(true = mydata.v$Species, model = log_pred)\n",
    "\n",
    "log_con"
   ]
  },
  {
   "cell_type": "markdown",
   "metadata": {},
   "source": [
    "<h3> (iii) </h3>\n",
    "<p>Compute the decision boundary for linear discriminant analysis, using Sepal.Length as the predictor variable. Compute the confusion matrix for the test data set.</p>"
   ]
  },
  {
   "cell_type": "code",
   "execution_count": 25,
   "metadata": {
    "collapsed": false
   },
   "outputs": [
    {
     "name": "stderr",
     "output_type": "stream",
     "text": [
      "Loading required package: MASS\n",
      "\n",
      "Attaching package: ‘MASS’\n",
      "\n",
      "The following object is masked from ‘package:dplyr’:\n",
      "\n",
      "    select\n",
      "\n"
     ]
    },
    {
     "data": {
      "text/plain": [
       "            model\n",
       "true         setosa versicolor\n",
       "  setosa         10          0\n",
       "  versicolor      3          7"
      ]
     },
     "metadata": {},
     "output_type": "display_data"
    }
   ],
   "source": [
    "require(MASS)\n",
    "\n",
    "# Fit logistic model on training data. Use family = binomial for logistic.\n",
    "lda_model = lda(Species ~ Sepal.Length, mydata.t)\n",
    "\n",
    "# Predict for test data. Use type = \"response\" to get class probabilities.\n",
    "lda_pred = predict(lda_model, mydata.v, type = \"response\")\n",
    "\n",
    "# Make a confusion matrix by tabulating true classes against predicted classes.\n",
    "lda_con = table(true = mydata.v$Species, model = lda_pred$class)\n",
    "\n",
    "lda_con"
   ]
  },
  {
   "cell_type": "markdown",
   "metadata": {},
   "source": [
    "<h3> (iv) </h3> \n",
    "<p>Use k-nearest neighbors classification method with k = 3, 5, again using Sepal.Length as the predictor variable. In each case, confusion matrix for the test data set.</p>"
   ]
  },
  {
   "cell_type": "code",
   "execution_count": 27,
   "metadata": {
    "collapsed": false
   },
   "outputs": [
    {
     "data": {
      "text/plain": [
       "            model\n",
       "true         setosa versicolor\n",
       "  setosa         10          0\n",
       "  versicolor      3          7"
      ]
     },
     "metadata": {},
     "output_type": "display_data"
    }
   ],
   "source": [
    "# Use knn() from package class for k-nearest neighbors.\n",
    "require(class)\n",
    "\n",
    "# Fit knn (k = 3) model.\n",
    "knn_pred = knn(\n",
    "        # Note the use of [ ] rather than $ or [[ ]].\n",
    "        #\n",
    "        # The knn() function expects a matrix or data frame for the train and test\n",
    "        # arguments. Using $ or [[ ]] would get a vector rather than a data frame.\n",
    "        #\n",
    "        train = mydata.t[\"Sepal.Length\"], # 1-col data frame\n",
    "        test  = mydata.v[\"Sepal.Length\"],  # 1-col data frame\n",
    "        cl    = mydata.t$Species,     # vector\n",
    "        k     = 3\n",
    ")\n",
    "\n",
    "# Confusion matrix.\n",
    "knn_con = table(true = mydata.v$Species, model = knn_pred)\n",
    "knn_con"
   ]
  },
  {
   "cell_type": "code",
   "execution_count": 29,
   "metadata": {
    "collapsed": false
   },
   "outputs": [
    {
     "data": {
      "text/plain": [
       "            model\n",
       "true         setosa versicolor\n",
       "  setosa         10          0\n",
       "  versicolor      2          8"
      ]
     },
     "metadata": {},
     "output_type": "display_data"
    }
   ],
   "source": [
    "# Fit knn (k = 5) model.\n",
    "knn_pred_2 = knn(\n",
    "        # Note the use of [ ] rather than $ or [[ ]].\n",
    "        #\n",
    "        # The knn() function expects a matrix or data frame for the train and test\n",
    "        # arguments. Using $ or [[ ]] would get a vector rather than a data frame.\n",
    "        #\n",
    "        train = mydata.t[\"Sepal.Length\"], # 1-col data frame\n",
    "        test  = mydata.v[\"Sepal.Length\"],  # 1-col data frame\n",
    "        cl    = mydata.t$Species,     # vector\n",
    "        k     = 5\n",
    ")\n",
    "\n",
    "# Confusion matrix.\n",
    "knn_con_2 = table(true = mydata.v$Species, model = knn_pred_2)\n",
    "knn_con_2"
   ]
  },
  {
   "cell_type": "markdown",
   "metadata": {},
   "source": [
    "<h3> (v) </h3>\n",
    "<p>Write a very brief summary of the comparative performance of different classification procedures.</p>"
   ]
  },
  {
   "cell_type": "markdown",
   "metadata": {},
   "source": [
    "It can be found that \n",
    "\n",
    "1) For the category **setosa**, all three methods can successfully predict the classification of the testing dataset. \n",
    "\n",
    "2) For the category **versicolor**, all three methods cannot fully predict the classification of the testing dataset. Comparing all three methods, the **Logistic Regression Model** and **kNN classification method with k = 5** will give us better result with eight out of ten cases are correctly predicted. However, the **Linear Discriminate Analysis** and **kNN classification method with k = 3** can only get seven out of ten right.\n",
    "\n",
    "Below is the distribution of **Sepal.Length** of two different **Species**.\n"
   ]
  },
  {
   "cell_type": "code",
   "execution_count": 31,
   "metadata": {
    "collapsed": false
   },
   "outputs": [
    {
     "data": {},
     "metadata": {},
     "output_type": "display_data"
    },
    {
     "data": {
      "image/png": "[encoded data removed]",
      "text/plain": [
       "plot without title"
      ]
     },
     "metadata": {},
     "output_type": "display_data"
    }
   ],
   "source": [
    "require(ggplot2)\n",
    "ggplot(data = mydata.t, aes(Sepal.Length, color = Species, fill = Species, \n",
    "                            group = Species)) + \n",
    "        geom_density(alpha = 0.5) + labs(title = \"Density Plot of Two Species\")"
   ]
  },
  {
   "cell_type": "markdown",
   "metadata": {},
   "source": [
    "It can be found that the distribution of category **setosa** is pretty normally distributed. However the distribution of category **versicolor** does not follow the normal distribution, and the distribution is right skewed.\n",
    "\n",
    "We have learned that the **LDA** method is derived based on the assumption that the distribution of each class is (or almost) normal distribution. Therefore, the **LDA** method can successfully predict the classification of **setosa** since it follows the normal distribution. However, in the case of predicting **versicolor**, due to the violation of normality assumption, the misclassification rate of **versicolor** is higher. \n",
    "\n",
    "The **Logistic Regression Method**, instead of making assumption on the distribution, is built on predicting *Logit Probability* by using a linear model.\n",
    "\n",
    "So this **Logistic Regression Method** is more flexible and will give better prediction when the normality assumption is violated. So it gave us better prediction in the classification **versicolor**. \n",
    "\n",
    "The quality of **k-NN method** in predicting the classification is dependent on the number of nearest neighbors being chosen. In this example here, when k is small (eg. k = 3), the misclassification rate will be higher, because there is not enough data to use. In the case where k is larger (eg. k = 5), the prediction of classification will be better. However, k can not be too large, because when k is too large, you basically just consider the whole dataset. So it won't be useful for the prediction.\n",
    "\n",
    "Other possible reason for misclassification may be that the size of the testing dataset is too small. "
   ]
  },
  {
   "cell_type": "code",
   "execution_count": null,
   "metadata": {
    "collapsed": true
   },
   "outputs": [],
   "source": []
  }
 ],
 "metadata": {
  "anaconda-cloud": {},
  "kernelspec": {
   "display_name": "R",
   "language": "R",
   "name": "ir"
  },
  "language_info": {
   "codemirror_mode": "r",
   "file_extension": ".r",
   "mimetype": "text/x-r-source",
   "name": "R",
   "pygments_lexer": "r",
   "version": "3.3.2"
  }
 },
 "nbformat": 4,
 "nbformat_minor": 1
}
